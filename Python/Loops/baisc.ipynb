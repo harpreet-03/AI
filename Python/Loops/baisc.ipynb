{
 "cells": [
  {
   "cell_type": "code",
   "execution_count": 1,
   "id": "64e1bd9d",
   "metadata": {},
   "outputs": [
    {
     "name": "stdout",
     "output_type": "stream",
     "text": [
      "x is odd\n",
      "This is the end of the script.\n"
     ]
    }
   ],
   "source": [
    "x = 13\n",
    "if x % 2 == 0:\n",
    "    print(\"x is even\")\n",
    "else:\n",
    "    print(\"x is odd\")\n",
    "print(\"This is the end of the script.\")"
   ]
  },
  {
   "cell_type": "code",
   "execution_count": 2,
   "id": "87af85ca",
   "metadata": {},
   "outputs": [
    {
     "name": "stdout",
     "output_type": "stream",
     "text": [
      "1 is odd\n",
      "2 is even\n",
      "3 is odd\n",
      "4 is even\n",
      "5 is odd\n"
     ]
    }
   ],
   "source": [
    "list_1 = [1, 2, 3, 4, 5]\n",
    "\n",
    "for i in list_1:\n",
    "    if i % 2 == 0:\n",
    "        print(f\"{i} is even\")\n",
    "    else:\n",
    "        print(f\"{i} is odd\")"
   ]
  },
  {
   "cell_type": "code",
   "execution_count": 3,
   "id": "30989823",
   "metadata": {},
   "outputs": [
    {
     "name": "stdout",
     "output_type": "stream",
     "text": [
      "Student ID: 1, Name: Alice, Age: 20\n",
      "Student ID: 2, Name: Bob, Age: 22\n",
      "Student ID: 3, Name: Charlie, Age: 21\n"
     ]
    }
   ],
   "source": [
    "student = {1: [\"Alice\", 20], 2: [\"Bob\", 22], 3: [\"Charlie\", 21]}\n",
    "for key, value in student.items():\n",
    "    print(f\"Student ID: {key}, Name: {value[0]}, Age: {value[1]}\")"
   ]
  },
  {
   "cell_type": "markdown",
   "id": "1c99b9c3",
   "metadata": {},
   "source": [
    "# Comprehension"
   ]
  },
  {
   "cell_type": "code",
   "execution_count": 7,
   "id": "d6e3a5c5",
   "metadata": {},
   "outputs": [
    {
     "data": {
      "text/plain": [
       "[8, 3, 3, 4, 6]"
      ]
     },
     "execution_count": 7,
     "metadata": {},
     "output_type": "execute_result"
    }
   ],
   "source": [
    "list_1 = [\"harpreet\", \"Sam\", \"Lea\", \"Aman\", \"Daniel\"]\n",
    "\n",
    "list_2 = []\n",
    "\n",
    "#normal code\n",
    "for i in list_1:\n",
    "    list_2.append(len(i))\n",
    "\n",
    "\n",
    "# list comprehension\n",
    "list_2 = [len(i) for i in list_1]\n",
    "\n",
    "list_2\n",
    "\n"
   ]
  },
  {
   "cell_type": "code",
   "execution_count": null,
   "id": "259b9725",
   "metadata": {},
   "outputs": [],
   "source": []
  }
 ],
 "metadata": {
  "kernelspec": {
   "display_name": "Python 3",
   "language": "python",
   "name": "python3"
  },
  "language_info": {
   "codemirror_mode": {
    "name": "ipython",
    "version": 3
   },
   "file_extension": ".py",
   "mimetype": "text/x-python",
   "name": "python",
   "nbconvert_exporter": "python",
   "pygments_lexer": "ipython3",
   "version": "3.13.1"
  }
 },
 "nbformat": 4,
 "nbformat_minor": 5
}
