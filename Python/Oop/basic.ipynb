{
 "cells": [
  {
   "cell_type": "markdown",
   "id": "c0d8de33",
   "metadata": {},
   "source": [
    "# Defining a class\n",
    " \n",
    " - length and breadth as attributes\n",
    " - init() - constructor of class\n",
    " - self parameter - refers to the newly created instance of class\n",
    " - attributes length and width are associcated with self-keyword to identify them as instance variables."
   ]
  },
  {
   "cell_type": "code",
   "execution_count": 1,
   "id": "de903fc3",
   "metadata": {},
   "outputs": [],
   "source": [
    "class Rectangle:\n",
    "    def __init__(self):\n",
    "        self.width = 10\n",
    "        self.height = 5"
   ]
  },
  {
   "cell_type": "markdown",
   "id": "d8aeb0fa",
   "metadata": {},
   "source": [
    "- create the object by calling name of class followed by parenthesis.\n",
    "- print the values using dot operator"
   ]
  },
  {
   "cell_type": "markdown",
   "id": "bd7c3184",
   "metadata": {},
   "source": [
    "Constuctor:\n",
    "\n",
    "A constructor is a special kind of method that python calls when it instantiates an object using the definitions found in your class."
   ]
  },
  {
   "cell_type": "code",
   "execution_count": 2,
   "id": "543f26f5",
   "metadata": {},
   "outputs": [
    {
     "name": "stdout",
     "output_type": "stream",
     "text": [
      "Width: 10, Height: 5\n"
     ]
    }
   ],
   "source": [
    "rect = Rectangle()\n",
    "print(f\"Width: {rect.width}, Height: {rect.height}\")"
   ]
  },
  {
   "cell_type": "markdown",
   "id": "1191be3e",
   "metadata": {},
   "source": [
    "Parametrized constructor:\n",
    "\n",
    "Parametrised constructor - dynamically assign values during object creation"
   ]
  },
  {
   "cell_type": "code",
   "execution_count": 3,
   "id": "d5e3c4df",
   "metadata": {},
   "outputs": [],
   "source": [
    "class Rectangle:\n",
    "    def __init__(self, width, height):\n",
    "        self.width = width\n",
    "        self.height = height\n",
    "\n",
    "    def area(self):\n",
    "        return self.width * self.height\n",
    "\n",
    "    def perimeter(self):\n",
    "        return 2 * (self.width + self.height)"
   ]
  },
  {
   "cell_type": "markdown",
   "id": "14413fd2",
   "metadata": {},
   "source": [
    " - area(): return the product of length and width\n",
    " - self - identifies its association with the instance"
   ]
  },
  {
   "cell_type": "code",
   "execution_count": 4,
   "id": "482298c3",
   "metadata": {},
   "outputs": [
    {
     "name": "stdout",
     "output_type": "stream",
     "text": [
      "Area: 200\n"
     ]
    }
   ],
   "source": [
    "rect = Rectangle(10, 20)\n",
    "print(f\"Area: {rect.area()}\")"
   ]
  },
  {
   "cell_type": "markdown",
   "id": "b7fc37ca",
   "metadata": {},
   "source": [
    "# Significance of Self:\n",
    "\n",
    "- the attribute length and breath are associated with an instance.\n",
    "- self make sure that each instance refers to its own copy of attributes."
   ]
  },
  {
   "cell_type": "markdown",
   "id": "00b6b831",
   "metadata": {},
   "source": [
    "# Inheritance and Overriding"
   ]
  },
  {
   "cell_type": "code",
   "execution_count": 6,
   "id": "791593db",
   "metadata": {},
   "outputs": [],
   "source": [
    "class Employee:\n",
    "    def __init__(self, name, salary):\n",
    "        self.name = name\n",
    "        self.salary = salary\n",
    "\n",
    "    def display(self):\n",
    "        print(f\"Name: {self.name}, Salary: {self.salary}\")\n",
    "\n",
    "\n",
    "class Department(Employee):\n",
    "    def __init__(self, name, salary, department_name):\n",
    "        super().__init__(name, salary)\n",
    "        self.department_name = department_name\n",
    "\n",
    "    def display(self):\n",
    "        super().display()\n",
    "        print(f\"Department: {self.department_name}\")"
   ]
  },
  {
   "cell_type": "code",
   "execution_count": 7,
   "id": "e7c6b216",
   "metadata": {},
   "outputs": [
    {
     "name": "stdout",
     "output_type": "stream",
     "text": [
      "Name: Happy, Salary: 1500000\n"
     ]
    }
   ],
   "source": [
    "emp = Employee(\"Happy\", 1500000)\n",
    "emp.display()"
   ]
  },
  {
   "cell_type": "code",
   "execution_count": 9,
   "id": "d6a0312e",
   "metadata": {},
   "outputs": [
    {
     "name": "stdout",
     "output_type": "stream",
     "text": [
      "Name: Happy, Salary: 1500000\n",
      "Department: IT\n"
     ]
    }
   ],
   "source": [
    "dept = Department(\"Happy\", 1500000, \"IT\")\n",
    "dept.display()"
   ]
  },
  {
   "cell_type": "code",
   "execution_count": null,
   "id": "186faa94",
   "metadata": {},
   "outputs": [],
   "source": []
  }
 ],
 "metadata": {
  "kernelspec": {
   "display_name": "Python 3",
   "language": "python",
   "name": "python3"
  },
  "language_info": {
   "codemirror_mode": {
    "name": "ipython",
    "version": 3
   },
   "file_extension": ".py",
   "mimetype": "text/x-python",
   "name": "python",
   "nbconvert_exporter": "python",
   "pygments_lexer": "ipython3",
   "version": "3.13.1"
  }
 },
 "nbformat": 4,
 "nbformat_minor": 5
}
