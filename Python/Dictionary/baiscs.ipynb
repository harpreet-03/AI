{
 "cells": [
  {
   "cell_type": "markdown",
   "id": "909bab42",
   "metadata": {},
   "source": [
    "# Dictionary:\n",
    "\n",
    "- Unordered collection of data.\n",
    "- Data in dictionary is stored as a key : value pair.\n",
    "- The key is like an index, its always unique & immutable\n",
    "- The values are the objects that contain information\n",
    "- Values are accessed using their keys\n",
    "- Each key is followed by a value separated by a colon\n",
    "- The values can be immutable, mutable, & duplicates\n",
    "- Each key and value pair is separated by a comma enclosed inside curly\n",
    "\n",
    "`Dict = {\"name\": \"John\", 'age':10 }`\n",
    "*Keys: name, and age, Values:` John`, and `10`*"
   ]
  },
  {
   "cell_type": "code",
   "execution_count": 1,
   "id": "6375ac44",
   "metadata": {},
   "outputs": [
    {
     "data": {
      "text/plain": [
       "dict"
      ]
     },
     "execution_count": 1,
     "metadata": {},
     "output_type": "execute_result"
    }
   ],
   "source": [
    "d1 = {\"India\": \"INR\", \"USA\": \"USD\", \"Japan\": \"JPY\"}\n",
    "type(d1)"
   ]
  },
  {
   "cell_type": "code",
   "execution_count": 2,
   "id": "3f27d01e",
   "metadata": {},
   "outputs": [
    {
     "data": {
      "text/plain": [
       "3"
      ]
     },
     "execution_count": 2,
     "metadata": {},
     "output_type": "execute_result"
    }
   ],
   "source": [
    "len(d1)"
   ]
  },
  {
   "cell_type": "code",
   "execution_count": 3,
   "id": "8fa4408f",
   "metadata": {},
   "outputs": [
    {
     "data": {
      "text/plain": [
       "'INR'"
      ]
     },
     "execution_count": 3,
     "metadata": {},
     "output_type": "execute_result"
    }
   ],
   "source": [
    "d1['India']"
   ]
  },
  {
   "cell_type": "code",
   "execution_count": 5,
   "id": "6c4d8fc1",
   "metadata": {},
   "outputs": [
    {
     "data": {
      "text/plain": [
       "'US Dollar'"
      ]
     },
     "execution_count": 5,
     "metadata": {},
     "output_type": "execute_result"
    }
   ],
   "source": [
    "d1['USA'] = \"US Dollar\"\n",
    "d1['USA']"
   ]
  },
  {
   "cell_type": "code",
   "execution_count": 6,
   "id": "11b14a67",
   "metadata": {},
   "outputs": [
    {
     "data": {
      "text/plain": [
       "{'India': 'INR', 'Japan': 'JPY'}"
      ]
     },
     "execution_count": 6,
     "metadata": {},
     "output_type": "execute_result"
    }
   ],
   "source": [
    "# delete a key-value pair\n",
    "\n",
    "del d1['USA']\n",
    "d1"
   ]
  },
  {
   "cell_type": "code",
   "execution_count": 7,
   "id": "dfeab938",
   "metadata": {},
   "outputs": [
    {
     "data": {
      "text/plain": [
       "['Canada', 'India', 'Japan']"
      ]
     },
     "execution_count": 7,
     "metadata": {},
     "output_type": "execute_result"
    }
   ],
   "source": [
    "# sorting\n",
    "d1 = {\"India\": \"INR\", \"Canada\": \"CAD\", \"Japan\": \"JPY\"}\n",
    "sorted(d1)"
   ]
  },
  {
   "cell_type": "code",
   "execution_count": 8,
   "id": "4bf92dc1",
   "metadata": {},
   "outputs": [
    {
     "data": {
      "text/plain": [
       "dict_values(['INR', 'CAD', 'JPY'])"
      ]
     },
     "execution_count": 8,
     "metadata": {},
     "output_type": "execute_result"
    }
   ],
   "source": [
    "# values()\n",
    "\n",
    "d1.values()"
   ]
  },
  {
   "cell_type": "code",
   "execution_count": 9,
   "id": "03a278c0",
   "metadata": {},
   "outputs": [
    {
     "data": {
      "text/plain": [
       "dict_keys(['India', 'Canada', 'Japan'])"
      ]
     },
     "execution_count": 9,
     "metadata": {},
     "output_type": "execute_result"
    }
   ],
   "source": [
    "# keys()\n",
    "d1.keys()"
   ]
  },
  {
   "cell_type": "code",
   "execution_count": 10,
   "id": "a02cb3f0",
   "metadata": {},
   "outputs": [
    {
     "data": {
      "text/plain": [
       "'INR'"
      ]
     },
     "execution_count": 10,
     "metadata": {},
     "output_type": "execute_result"
    }
   ],
   "source": [
    "# get()\n",
    "d1.get('India')"
   ]
  },
  {
   "cell_type": "code",
   "execution_count": 11,
   "id": "a1aa05c7",
   "metadata": {},
   "outputs": [
    {
     "data": {
      "text/plain": [
       "dict_items([('India', 'INR'), ('Canada', 'CAD'), ('Japan', 'JPY')])"
      ]
     },
     "execution_count": 11,
     "metadata": {},
     "output_type": "execute_result"
    }
   ],
   "source": [
    "# items()\n",
    "d1.items()"
   ]
  },
  {
   "cell_type": "code",
   "execution_count": 12,
   "id": "7c321cce",
   "metadata": {},
   "outputs": [
    {
     "data": {
      "text/plain": [
       "{'India': 'Rupees', 'Canada': 'CAD', 'Japan': 'JPY'}"
      ]
     },
     "execution_count": 12,
     "metadata": {},
     "output_type": "execute_result"
    }
   ],
   "source": [
    "# update()\n",
    "d1.update({\"India\": \"Rupees\"})\n",
    "d1"
   ]
  },
  {
   "cell_type": "code",
   "execution_count": null,
   "id": "5c8d6f75",
   "metadata": {},
   "outputs": [],
   "source": []
  }
 ],
 "metadata": {
  "kernelspec": {
   "display_name": "Python 3",
   "language": "python",
   "name": "python3"
  },
  "language_info": {
   "codemirror_mode": {
    "name": "ipython",
    "version": 3
   },
   "file_extension": ".py",
   "mimetype": "text/x-python",
   "name": "python",
   "nbconvert_exporter": "python",
   "pygments_lexer": "ipython3",
   "version": "3.13.1"
  }
 },
 "nbformat": 4,
 "nbformat_minor": 5
}
