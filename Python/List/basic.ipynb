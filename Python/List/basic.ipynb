{
 "cells": [
  {
   "cell_type": "markdown",
   "id": "39f65d1f",
   "metadata": {},
   "source": [
    "# Lists:\n",
    "\n",
    "- List are ordered sequence of mixed data type\n",
    "- Lists are written in, separated elements within brackets\n",
    "- Mutable\n",
    "- Variable Length\n",
    "- List cannot be used as keys for dictionaries bcz keys should be hashtable and immutable\n"
   ]
  },
  {
   "cell_type": "code",
   "execution_count": 2,
   "id": "d0e8b32c",
   "metadata": {},
   "outputs": [
    {
     "data": {
      "text/plain": [
       "['India', 'Usa']"
      ]
     },
     "execution_count": 2,
     "metadata": {},
     "output_type": "execute_result"
    }
   ],
   "source": [
    "lists = [\"India\", \"Usa\"]\n",
    "lists"
   ]
  },
  {
   "cell_type": "code",
   "execution_count": 3,
   "id": "633a7db2",
   "metadata": {},
   "outputs": [
    {
     "data": {
      "text/plain": [
       "['India', 'Usa', 'China', 'Japan', 31, 120000]"
      ]
     },
     "execution_count": 3,
     "metadata": {},
     "output_type": "execute_result"
    }
   ],
   "source": [
    "lists = [\"India\", \"Usa\", \"China\", \"Japan\", 31, 120000]\n",
    "lists"
   ]
  },
  {
   "cell_type": "code",
   "execution_count": 4,
   "id": "a0ded6ae",
   "metadata": {},
   "outputs": [
    {
     "data": {
      "text/plain": [
       "list"
      ]
     },
     "execution_count": 4,
     "metadata": {},
     "output_type": "execute_result"
    }
   ],
   "source": [
    "type(lists)"
   ]
  },
  {
   "cell_type": "code",
   "execution_count": 14,
   "id": "cf2d982d",
   "metadata": {},
   "outputs": [
    {
     "name": "stdout",
     "output_type": "stream",
     "text": [
      "['India', 'Usa', 'China', 'Japan', 31, 120000, ['Delhi', 'Tokyo', 'Beijing']]\n",
      "7\n",
      "['Delhi', 'Tokyo', 'Beijing']\n",
      "Delhi\n",
      "Delhi\n"
     ]
    }
   ],
   "source": [
    "# Nested lists\n",
    "lists = [\"India\", \"Usa\", \"China\", \"Japan\", 31, 120000, [\"Delhi\", \"Tokyo\", \"Beijing\"]]\n",
    "print(lists)\n",
    "\n",
    "print(len(lists))\n",
    "\n",
    "print(lists[6])\n",
    "\n",
    "print(lists[6][0])\n",
    "\n",
    "print(lists[-1][-3])"
   ]
  },
  {
   "cell_type": "code",
   "execution_count": 15,
   "id": "e8831d70",
   "metadata": {},
   "outputs": [
    {
     "name": "stdout",
     "output_type": "stream",
     "text": [
      "['India', 'Usa', 'China', 'Japan']\n"
     ]
    }
   ],
   "source": [
    "# Concatenation\n",
    "lists1 = [\"India\", \"Usa\"]\n",
    "lists2 = [\"China\", \"Japan\"]\n",
    "lists3 = lists1 + lists2\n",
    "print(lists3)"
   ]
  },
  {
   "cell_type": "code",
   "execution_count": 16,
   "id": "4b78a4b6",
   "metadata": {},
   "outputs": [
    {
     "name": "stdout",
     "output_type": "stream",
     "text": [
      "True\n",
      "False\n"
     ]
    }
   ],
   "source": [
    "# Membership\n",
    "lists = [\"India\", \"Usa\", \"China\", \"Japan\"]\n",
    "print(\"India\" in lists)\n",
    "print(\"Dubai\" in lists)"
   ]
  },
  {
   "cell_type": "code",
   "execution_count": 18,
   "id": "4863d6b5",
   "metadata": {},
   "outputs": [
    {
     "name": "stdout",
     "output_type": "stream",
     "text": [
      "[1, 2, 4, 3, 2, 10, 20, 30]\n",
      "8\n"
     ]
    }
   ],
   "source": [
    "# Extend a list\n",
    "list1 = [1,2,4,3,2]\n",
    "list1.extend([10,20,30])\n",
    "print(list1)\n",
    "print(len(list1))"
   ]
  },
  {
   "cell_type": "code",
   "execution_count": 19,
   "id": "95a431f4",
   "metadata": {},
   "outputs": [
    {
     "name": "stdout",
     "output_type": "stream",
     "text": [
      "[11, 22, 44, 33, 22, [10, 20, 30]]\n",
      "6\n"
     ]
    }
   ],
   "source": [
    "# Extend a list\n",
    "list2 = [11,22,44,33,22]\n",
    "list2.append([10,20,30])\n",
    "print(list2)\n",
    "print(len(list2))"
   ]
  },
  {
   "cell_type": "code",
   "execution_count": 21,
   "id": "06ca6078",
   "metadata": {},
   "outputs": [
    {
     "name": "stdout",
     "output_type": "stream",
     "text": [
      "[1, 4, 3, 2]\n",
      "[1, 2, 4, 3]\n",
      "[1, 4, 3, 2]\n",
      "[]\n"
     ]
    }
   ],
   "source": [
    "# del function\n",
    "list3 = [1,2,4,3,2]\n",
    "del list3[1]\n",
    "print(list3)\n",
    "\n",
    "\n",
    "# pop() - deletes the object based on the index value\n",
    "# default - removes the last element\n",
    "list4 = [1,2,4,3,2]\n",
    "list4.pop()\n",
    "print(list4)\n",
    "\n",
    "\n",
    "# remove() - removes the first occurrence of the object\n",
    "list5 = [1,2,4,3,2]\n",
    "list5.remove(2)\n",
    "print(list5)\n",
    "\n",
    "# clear() - removes all the elements from the list\n",
    "list6 = [1,2,4,3,2]\n",
    "list6.clear()\n",
    "print(list6)\n",
    "\n"
   ]
  },
  {
   "cell_type": "code",
   "execution_count": 22,
   "id": "9d789b42",
   "metadata": {},
   "outputs": [
    {
     "data": {
      "text/plain": [
       "[2, 9, 9, 10, 12]"
      ]
     },
     "execution_count": 22,
     "metadata": {},
     "output_type": "execute_result"
    }
   ],
   "source": [
    "# Sort\n",
    "\n",
    "A = [9, 9,10,12,2]\n",
    "A.sort()\n",
    "A"
   ]
  },
  {
   "cell_type": "code",
   "execution_count": 23,
   "id": "a1a3b301",
   "metadata": {},
   "outputs": [
    {
     "data": {
      "text/plain": [
       "[12, 10, 9, 9, 2]"
      ]
     },
     "execution_count": 23,
     "metadata": {},
     "output_type": "execute_result"
    }
   ],
   "source": [
    "A.sort(reverse=True)\n",
    "A"
   ]
  },
  {
   "cell_type": "markdown",
   "id": "16cc3591",
   "metadata": {},
   "source": [
    "**Sort and Sorted**"
   ]
  },
  {
   "cell_type": "code",
   "execution_count": null,
   "id": "28af93cd",
   "metadata": {},
   "outputs": [
    {
     "name": "stdout",
     "output_type": "stream",
     "text": [
      "['Mango', 'Oranges', 'Strawberry']\n",
      "None\n"
     ]
    }
   ],
   "source": [
    "A = [\"Oranges\", \"Strawberry\", \"Mango\"]\n",
    "B = A.sort()\n",
    "print(A)\n",
    "print(B)  # None because sort() does not return anything"
   ]
  },
  {
   "cell_type": "code",
   "execution_count": 29,
   "id": "b2a143d8",
   "metadata": {},
   "outputs": [],
   "source": [
    "A = [\"Oranges\", \"Strawberry\", \"Mango\"]\n",
    "A.sort()"
   ]
  },
  {
   "cell_type": "code",
   "execution_count": null,
   "id": "85a12b2e",
   "metadata": {},
   "outputs": [
    {
     "name": "stdout",
     "output_type": "stream",
     "text": [
      "['Oranges', 'Strawberry', 'Mango']\n",
      "['Mango', 'Oranges', 'Strawberry']\n"
     ]
    }
   ],
   "source": [
    "A = [\"Oranges\", \"Strawberry\", \"Mango\"]\n",
    "B = sorted (A)\n",
    "print(A)\n",
    "print (B) # output comes beacause sorted() returns a new list"
   ]
  }
 ],
 "metadata": {
  "kernelspec": {
   "display_name": "Python 3",
   "language": "python",
   "name": "python3"
  },
  "language_info": {
   "codemirror_mode": {
    "name": "ipython",
    "version": 3
   },
   "file_extension": ".py",
   "mimetype": "text/x-python",
   "name": "python",
   "nbconvert_exporter": "python",
   "pygments_lexer": "ipython3",
   "version": "3.13.1"
  }
 },
 "nbformat": 4,
 "nbformat_minor": 5
}
