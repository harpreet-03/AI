{
 "cells": [
  {
   "cell_type": "markdown",
   "id": "aa99092a",
   "metadata": {},
   "source": [
    "# Tuple:\n",
    "\n",
    "- Tuples are ordered sequence of mixed data types\n",
    "- Tuples are written in comma separated elements within parenthesis\n",
    "- Immutable\n",
    "- Fixed Length\n",
    "- Tuples can be used as keys for dictionaries bcz keys should be hashtable and immutable"
   ]
  },
  {
   "cell_type": "code",
   "execution_count": 1,
   "id": "f6c929a4",
   "metadata": {},
   "outputs": [
    {
     "name": "stdout",
     "output_type": "stream",
     "text": [
      "(1, 3, 2, 4)\n"
     ]
    },
    {
     "data": {
      "text/plain": [
       "tuple"
      ]
     },
     "execution_count": 1,
     "metadata": {},
     "output_type": "execute_result"
    }
   ],
   "source": [
    "t = (1,3,2,4)\n",
    "print(t)\n",
    "type(t)"
   ]
  },
  {
   "cell_type": "code",
   "execution_count": 2,
   "id": "6990dcfa",
   "metadata": {},
   "outputs": [
    {
     "name": "stdout",
     "output_type": "stream",
     "text": [
      "('hello world', 1, 2, True, 5.5)\n"
     ]
    }
   ],
   "source": [
    "t = ('hello world', 1,2, True, 5.5)\n",
    "print(t)"
   ]
  },
  {
   "cell_type": "code",
   "execution_count": 4,
   "id": "e37fdd80",
   "metadata": {},
   "outputs": [
    {
     "name": "stdout",
     "output_type": "stream",
     "text": [
      "5\n"
     ]
    }
   ],
   "source": [
    "type(t)\n",
    "print(len(t))"
   ]
  },
  {
   "cell_type": "code",
   "execution_count": 6,
   "id": "0b75b082",
   "metadata": {},
   "outputs": [
    {
     "name": "stdout",
     "output_type": "stream",
     "text": [
      "(1, 2, 3, (4, 5, 6), [33, 44])\n",
      "(4, 5, 6)\n",
      "[33, 44]\n",
      "<class 'tuple'>\n",
      "<class 'list'>\n"
     ]
    }
   ],
   "source": [
    "t2 = (1,2,3, (4,5,6), [33,44])\n",
    "print(t2)\n",
    "\n",
    "print(t2[3])\n",
    "\n",
    "print(t2[4])\n",
    "\n",
    "print(type(t2))\n",
    "\n",
    "print(type(t2[4]))"
   ]
  },
  {
   "cell_type": "code",
   "execution_count": 13,
   "id": "a2f0995c",
   "metadata": {},
   "outputs": [
    {
     "name": "stdout",
     "output_type": "stream",
     "text": [
      "4\n",
      "222\n",
      "249\n",
      "[4, 6, 8, 9, 222]\n"
     ]
    }
   ],
   "source": [
    "# min - max functions\n",
    "\n",
    "t = (222,4,6,8,9)\n",
    "\n",
    "print(min(t))\n",
    "print(max(t))\n",
    "print(sum(t))\n",
    "print(sorted(t))\n"
   ]
  },
  {
   "cell_type": "markdown",
   "id": "0baad45f",
   "metadata": {},
   "source": [
    "**Sorting**"
   ]
  },
  {
   "cell_type": "code",
   "execution_count": 14,
   "id": "14484f7b",
   "metadata": {},
   "outputs": [
    {
     "name": "stdout",
     "output_type": "stream",
     "text": [
      "(22, 3, 4, 55, 444, 6)\n",
      "[3, 4, 6, 22, 55, 444]\n"
     ]
    }
   ],
   "source": [
    "t =(22,3,4,55,444,6)\n",
    "new_var = sorted(t)\n",
    "print(t)\n",
    "print(new_var)"
   ]
  },
  {
   "cell_type": "code",
   "execution_count": 16,
   "id": "ea3e5936",
   "metadata": {},
   "outputs": [
    {
     "name": "stdout",
     "output_type": "stream",
     "text": [
      "<class 'tuple'>\n",
      "<class 'list'>\n"
     ]
    }
   ],
   "source": [
    "print(type(t))\n",
    "print(type(new_var))"
   ]
  },
  {
   "cell_type": "markdown",
   "id": "634e11cc",
   "metadata": {},
   "source": [
    "**Tuples are immutable so they cannot be sorted. hence, first we convert that into a list then sort that list and finaly converts that into a new tuple.**"
   ]
  },
  {
   "cell_type": "code",
   "execution_count": 18,
   "id": "f8f00a98",
   "metadata": {},
   "outputs": [
    {
     "name": "stdout",
     "output_type": "stream",
     "text": [
      "<class 'tuple'>\n"
     ]
    }
   ],
   "source": [
    "new_var = tuple(new_var)\n",
    "print(type(new_var))"
   ]
  },
  {
   "cell_type": "code",
   "execution_count": 19,
   "id": "0336744b",
   "metadata": {},
   "outputs": [
    {
     "name": "stdout",
     "output_type": "stream",
     "text": [
      "(3, 4, 6, 22, 55, 444)\n"
     ]
    }
   ],
   "source": [
    "print(new_var)"
   ]
  },
  {
   "cell_type": "code",
   "execution_count": 23,
   "id": "6b229fc2",
   "metadata": {},
   "outputs": [
    {
     "name": "stdout",
     "output_type": "stream",
     "text": [
      "<class 'str'>\n",
      "<class 'tuple'>\n",
      "<class 'tuple'>\n"
     ]
    }
   ],
   "source": [
    "x = ('2')\n",
    "print(type(x))\n",
    "x = 1,2,\n",
    "print(type(x))\n",
    "x = ( (1,2,3) , 4,5)\n",
    "print(type(x))"
   ]
  },
  {
   "cell_type": "code",
   "execution_count": null,
   "id": "b1c27f25",
   "metadata": {},
   "outputs": [],
   "source": []
  }
 ],
 "metadata": {
  "kernelspec": {
   "display_name": "Python 3",
   "language": "python",
   "name": "python3"
  },
  "language_info": {
   "codemirror_mode": {
    "name": "ipython",
    "version": 3
   },
   "file_extension": ".py",
   "mimetype": "text/x-python",
   "name": "python",
   "nbconvert_exporter": "python",
   "pygments_lexer": "ipython3",
   "version": "3.13.1"
  }
 },
 "nbformat": 4,
 "nbformat_minor": 5
}
