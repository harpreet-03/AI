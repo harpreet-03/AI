{
 "cells": [
  {
   "cell_type": "markdown",
   "id": "a0639cd4",
   "metadata": {},
   "source": [
    "# Sets:\n",
    "\n",
    "- Unordered collection of items.\n",
    "- Items of a set can not be duplicated; they can only contain unique values\n",
    "`Colors = ['red', 'blue', 'green'}`\n",
    "- Checking if a value is present in a set is very quick and can be done using the `in` keyword"
   ]
  },
  {
   "cell_type": "code",
   "execution_count": 25,
   "id": "556365f6",
   "metadata": {},
   "outputs": [
    {
     "data": {
      "text/plain": [
       "17"
      ]
     },
     "execution_count": 25,
     "metadata": {},
     "output_type": "execute_result"
    }
   ],
   "source": [
    "lists = [11,2,3,3,3,4,4,2,25,5,6,6,7,3,4,54,8,]\n",
    "len(lists)"
   ]
  },
  {
   "cell_type": "code",
   "execution_count": 26,
   "id": "fae8d35b",
   "metadata": {},
   "outputs": [
    {
     "name": "stdout",
     "output_type": "stream",
     "text": [
      "{2, 3, 4, 5, 6, 7, 8, 11, 54, 25}\n"
     ]
    }
   ],
   "source": [
    "set1 = set(lists)\n",
    "print(set1)"
   ]
  },
  {
   "cell_type": "code",
   "execution_count": 27,
   "id": "6300907d",
   "metadata": {},
   "outputs": [
    {
     "name": "stdout",
     "output_type": "stream",
     "text": [
      "{2, 3, 4, 5, 6, 7, 8, 11, 'Harpreet', 54, 25}\n"
     ]
    }
   ],
   "source": [
    "set1.add(\"Harpreet\")\n",
    "print(set1)"
   ]
  },
  {
   "cell_type": "code",
   "execution_count": 28,
   "id": "91902b42",
   "metadata": {},
   "outputs": [
    {
     "name": "stdout",
     "output_type": "stream",
     "text": [
      "{2, 3, 4, 5, 6, 7, 8, 11, 54, 25}\n"
     ]
    }
   ],
   "source": [
    "set1.remove(\"Harpreet\")\n",
    "print(set1)"
   ]
  },
  {
   "cell_type": "markdown",
   "id": "b533d2d9",
   "metadata": {},
   "source": [
    "**Union and Intersection in Sets**"
   ]
  },
  {
   "cell_type": "code",
   "execution_count": 29,
   "id": "4f41f1a2",
   "metadata": {},
   "outputs": [],
   "source": [
    "A = {0,2,4,6,8}\n",
    "B = {1,2,3,4,5}"
   ]
  },
  {
   "cell_type": "code",
   "execution_count": 31,
   "id": "6b7994d8",
   "metadata": {},
   "outputs": [
    {
     "name": "stdout",
     "output_type": "stream",
     "text": [
      "{0, 1, 2, 3, 4, 5, 6, 8}\n",
      "{0, 1, 2, 3, 4, 5, 6, 8}\n",
      "8\n"
     ]
    }
   ],
   "source": [
    "#union()\n",
    "\n",
    "print(A | B)\n",
    "print(A.union(B))\n",
    "print(len(A | B))"
   ]
  },
  {
   "cell_type": "code",
   "execution_count": 32,
   "id": "044cd4fa",
   "metadata": {},
   "outputs": [
    {
     "name": "stdout",
     "output_type": "stream",
     "text": [
      "{2, 4}\n",
      "{2, 4}\n",
      "2\n"
     ]
    }
   ],
   "source": [
    "#intersection()\n",
    "\n",
    "print(A & B)\n",
    "print(A.intersection(B))\n",
    "print(len(A & B))"
   ]
  },
  {
   "cell_type": "code",
   "execution_count": 33,
   "id": "b5f71cf7",
   "metadata": {},
   "outputs": [
    {
     "name": "stdout",
     "output_type": "stream",
     "text": [
      "{0, 8, 6}\n",
      "{0, 8, 6}\n",
      "3\n"
     ]
    }
   ],
   "source": [
    "#difference()\n",
    "\n",
    "print(A - B)\n",
    "print(A.difference(B))\n",
    "print(len(A - B))"
   ]
  },
  {
   "cell_type": "code",
   "execution_count": 34,
   "id": "948e42c1",
   "metadata": {},
   "outputs": [
    {
     "name": "stdout",
     "output_type": "stream",
     "text": [
      "{0, 1, 3, 5, 6, 8}\n",
      "{0, 1, 3, 5, 6, 8}\n",
      "6\n"
     ]
    }
   ],
   "source": [
    "# symmetric_difference()\n",
    "\n",
    "print(A ^ B)\n",
    "print(A.symmetric_difference(B))\n",
    "print(len(A ^ B))"
   ]
  },
  {
   "cell_type": "code",
   "execution_count": null,
   "id": "96c45073",
   "metadata": {},
   "outputs": [],
   "source": []
  }
 ],
 "metadata": {
  "kernelspec": {
   "display_name": "Python 3",
   "language": "python",
   "name": "python3"
  },
  "language_info": {
   "codemirror_mode": {
    "name": "ipython",
    "version": 3
   },
   "file_extension": ".py",
   "mimetype": "text/x-python",
   "name": "python",
   "nbconvert_exporter": "python",
   "pygments_lexer": "ipython3",
   "version": "3.13.1"
  }
 },
 "nbformat": 4,
 "nbformat_minor": 5
}
