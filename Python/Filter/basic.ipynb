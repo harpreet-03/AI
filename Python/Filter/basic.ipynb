{
 "cells": [
  {
   "cell_type": "markdown",
   "id": "7cbf76ab",
   "metadata": {},
   "source": [
    "# Map, Reduce & Filter\n",
    "\n",
    "- Utility function - maps a collection to another collection object based on certain functionality\n",
    "\n",
    "\n",
    "- map(function, iterable object)"
   ]
  },
  {
   "cell_type": "code",
   "execution_count": 1,
   "id": "ccc48808",
   "metadata": {},
   "outputs": [
    {
     "data": {
      "text/plain": [
       "['JOHN', 'JANE', 'DOE', 'ALICE', 'BOB']"
      ]
     },
     "execution_count": 1,
     "metadata": {},
     "output_type": "execute_result"
    }
   ],
   "source": [
    "# Map the list to obtain the names in upper case\n",
    "\n",
    "first_name = ['John', 'Jane', 'Doe', 'Alice', 'Bob']\n",
    "list(map(lambda x: x.upper(), first_name))"
   ]
  },
  {
   "cell_type": "markdown",
   "id": "062dd6bc",
   "metadata": {},
   "source": [
    "Filter:\n",
    "-------\n",
    "\n",
    "- It requires the function to look for a condition and then return only those elements from collection that staid=sfies the condition.\n",
    "\n",
    "\n",
    "Reduce:\n",
    "-------\n",
    "\n",
    "- An operation that breaks down the entire process into pairewise operations and uses the result from each operation, with the successive element.\n"
   ]
  },
  {
   "cell_type": "code",
   "execution_count": 6,
   "id": "0bf5ca3e",
   "metadata": {},
   "outputs": [
    {
     "name": "stdout",
     "output_type": "stream",
     "text": [
      "[3.141592653589793, 12.566370614359172, 28.274333882308138, 50.26548245743669, 78.53981633974483]\n"
     ]
    }
   ],
   "source": [
    "# Area of circle\n",
    "\n",
    "import math\n",
    "def area_of_circle(r):\n",
    "    return math.pi* (r**2)\n",
    "\n",
    "radii = [1, 2, 3, 4, 5]\n",
    "area = list(map(area_of_circle, radii))\n",
    "\n",
    "print(area)"
   ]
  },
  {
   "cell_type": "code",
   "execution_count": 7,
   "id": "15b6e77d",
   "metadata": {},
   "outputs": [
    {
     "name": "stdout",
     "output_type": "stream",
     "text": [
      "[32.0, 68.0, 98.6, 212.0]\n"
     ]
    }
   ],
   "source": [
    "# celcius to fahrenheit\n",
    "def cf(temp):\n",
    "    return (temp * 9/5) + 32\n",
    "\n",
    "temp = [0, 20, 37, 100]\n",
    "fah = list(map(cf, temp))\n",
    "\n",
    "print(fah)"
   ]
  },
  {
   "cell_type": "code",
   "execution_count": null,
   "id": "26c607ab",
   "metadata": {},
   "outputs": [],
   "source": [
    "# Filter:\n",
    "\n",
    "\n",
    "import statistics\n",
    "\n",
    "data = [1, 2, 3, 4, 5, 6, 7, 8, 9, 10, 100, 13, 1]\n",
    "mean = statistics.mean(data)\n",
    "median = statistics.median(data)\n",
    "mode = statistics.mode(data)    "
   ]
  },
  {
   "cell_type": "code",
   "execution_count": 11,
   "id": "f502be0b",
   "metadata": {},
   "outputs": [
    {
     "name": "stdout",
     "output_type": "stream",
     "text": [
      "13\n",
      "6\n",
      "1\n"
     ]
    }
   ],
   "source": [
    "print(mean)\n",
    "print(median)\n",
    "print(mode)"
   ]
  },
  {
   "cell_type": "code",
   "execution_count": 15,
   "id": "e82e5232",
   "metadata": {},
   "outputs": [],
   "source": [
    "avg = statistics.mean(data)"
   ]
  },
  {
   "cell_type": "code",
   "execution_count": 16,
   "id": "5f7470f2",
   "metadata": {},
   "outputs": [
    {
     "data": {
      "text/plain": [
       "<filter at 0x1081f3460>"
      ]
     },
     "execution_count": 16,
     "metadata": {},
     "output_type": "execute_result"
    }
   ],
   "source": [
    "(filter(lambda x: x > avg, data))"
   ]
  },
  {
   "cell_type": "code",
   "execution_count": 17,
   "id": "ee99a4ce",
   "metadata": {},
   "outputs": [
    {
     "data": {
      "text/plain": [
       "[100]"
      ]
     },
     "execution_count": 17,
     "metadata": {},
     "output_type": "execute_result"
    }
   ],
   "source": [
    "list(filter(lambda x: x > avg, data))"
   ]
  },
  {
   "cell_type": "code",
   "execution_count": 23,
   "id": "2e33438e",
   "metadata": {},
   "outputs": [
    {
     "name": "stdout",
     "output_type": "stream",
     "text": [
      "[1, 2, 3, 4, 5, 6, 7, 8, 9]\n"
     ]
    },
    {
     "data": {
      "text/plain": [
       "[1, 2, 3, 4, 5, 6, 7, 8, 9]"
      ]
     },
     "execution_count": 23,
     "metadata": {},
     "output_type": "execute_result"
    }
   ],
   "source": [
    "numbers = [1, 2, 3, 4, 5, 0, 0, 0, 6, 7, 8, 9, 0]\n",
    "filterred = list(filter(lambda x: x != 0, numbers))\n",
    "print(filterred)\n",
    "\n",
    "# or\n",
    "\n",
    "list(filter(None, numbers))"
   ]
  },
  {
   "cell_type": "code",
   "execution_count": 24,
   "id": "a348c6be",
   "metadata": {},
   "outputs": [],
   "source": [
    "# Reduce:\n",
    "\n",
    "from functools import reduce\n"
   ]
  },
  {
   "cell_type": "code",
   "execution_count": 25,
   "id": "7d5a1936",
   "metadata": {},
   "outputs": [
    {
     "name": "stdout",
     "output_type": "stream",
     "text": [
      "15\n"
     ]
    }
   ],
   "source": [
    "data = [1, 2, 3, 4, 5]\n",
    "sum_data = reduce(lambda x, y: x + y, data)\n",
    "print(sum_data)"
   ]
  },
  {
   "cell_type": "code",
   "execution_count": null,
   "id": "6eeaedef",
   "metadata": {},
   "outputs": [],
   "source": []
  }
 ],
 "metadata": {
  "kernelspec": {
   "display_name": "Python 3",
   "language": "python",
   "name": "python3"
  },
  "language_info": {
   "codemirror_mode": {
    "name": "ipython",
    "version": 3
   },
   "file_extension": ".py",
   "mimetype": "text/x-python",
   "name": "python",
   "nbconvert_exporter": "python",
   "pygments_lexer": "ipython3",
   "version": "3.13.1"
  }
 },
 "nbformat": 4,
 "nbformat_minor": 5
}
