{
 "cells": [
  {
   "cell_type": "markdown",
   "id": "a6a563c5",
   "metadata": {},
   "source": [
    "# File Handling\n"
   ]
  },
  {
   "cell_type": "markdown",
   "id": "0769caa8",
   "metadata": {},
   "source": [
    "Reading a file"
   ]
  },
  {
   "cell_type": "code",
   "execution_count": 7,
   "id": "30744a35",
   "metadata": {},
   "outputs": [
    {
     "name": "stdout",
     "output_type": "stream",
     "text": [
      "Basic Functions:\n",
      "\n",
      "    - open(), read(), close()\n",
      "\n",
      "\n",
      "\n",
      "File object = open(file_name[access_mode][buffering])\n",
      "\n",
      "\n",
      "\n",
      "    - Fileopen = open(\"filename\", \"r\")\n",
      "\n",
      "    - Fileopen.close()\n",
      "\n",
      "    - Fileopen.read()\n",
      "\n",
      "    - Fileopen.readline() // read lines of file \n",
      "\n",
      "    - Fileopen.write(\"Welcome to the class\")\n",
      "\n"
     ]
    }
   ],
   "source": [
    "file = open('text.txt', 'r')\n",
    "\n",
    "for line in file:\n",
    "    print(line)"
   ]
  },
  {
   "cell_type": "code",
   "execution_count": 8,
   "id": "76c740b6",
   "metadata": {},
   "outputs": [
    {
     "name": "stdout",
     "output_type": "stream",
     "text": [
      "Basic Functions:\n",
      "    - open(), read(), close()\n",
      "\n",
      "File object = open(file_name[access_mode][buffering])\n",
      "\n",
      "    - Fileopen = open(\"filename\", \"r\")\n",
      "    - Fileopen.close()\n",
      "    - Fileopen.read()\n",
      "    - Fileopen.readline() // read lines of file \n",
      "    - Fileopen.write(\"Welcome to the class\")\n"
     ]
    }
   ],
   "source": [
    "file = open('text.txt', 'r')\n",
    "print(file.read().strip())"
   ]
  },
  {
   "cell_type": "code",
   "execution_count": 10,
   "id": "e21247d1",
   "metadata": {},
   "outputs": [
    {
     "name": "stdout",
     "output_type": "stream",
     "text": [
      "Basic Functions:\n",
      "    - open(), read(), close()\n",
      "\n",
      "Fi\n"
     ]
    }
   ],
   "source": [
    "file = open('text.txt', 'r')\n",
    "print(file.read(50))"
   ]
  },
  {
   "cell_type": "code",
   "execution_count": 16,
   "id": "a5e97347",
   "metadata": {},
   "outputs": [
    {
     "name": "stdout",
     "output_type": "stream",
     "text": [
      "Basic Functions:\n",
      "\n"
     ]
    }
   ],
   "source": [
    "file = open('text.txt', 'r')\n",
    "print(file.readline()) #reading only the first line"
   ]
  },
  {
   "cell_type": "markdown",
   "id": "25c900d1",
   "metadata": {},
   "source": [
    "Writing a file"
   ]
  },
  {
   "cell_type": "code",
   "execution_count": 18,
   "id": "50e98e07",
   "metadata": {},
   "outputs": [],
   "source": [
    "file = open('text.txt', 'w')\n",
    "file.write('This is a new line.\\n')\n",
    "file.write('This is another line.\\n')\n",
    "file.close()"
   ]
  },
  {
   "cell_type": "code",
   "execution_count": null,
   "id": "aa36e8a3",
   "metadata": {},
   "outputs": [
    {
     "name": "stdout",
     "output_type": "stream",
     "text": [
      "This is a new line.\n",
      "This is another line.\n",
      "\n"
     ]
    }
   ],
   "source": [
    "file = open('text.txt', 'r')\n",
    "print(file.read()) "
   ]
  },
  {
   "cell_type": "markdown",
   "id": "66839d26",
   "metadata": {},
   "source": [
    "Append"
   ]
  },
  {
   "cell_type": "code",
   "execution_count": 21,
   "id": "23f9b8d1",
   "metadata": {},
   "outputs": [],
   "source": [
    "file = open('text.txt', 'a')\n",
    "file.write('Appending a new line.\\n')\n",
    "file.close()"
   ]
  },
  {
   "cell_type": "code",
   "execution_count": 22,
   "id": "f5d14e16",
   "metadata": {},
   "outputs": [
    {
     "name": "stdout",
     "output_type": "stream",
     "text": [
      "This is a new line.\n",
      "This is another line.\n",
      "Appending a new line.\n"
     ]
    }
   ],
   "source": [
    "file = open('text.txt', 'r')\n",
    "print(file.read().strip())"
   ]
  },
  {
   "cell_type": "code",
   "execution_count": null,
   "id": "9ac91c5f",
   "metadata": {},
   "outputs": [],
   "source": []
  }
 ],
 "metadata": {
  "kernelspec": {
   "display_name": "Python 3",
   "language": "python",
   "name": "python3"
  },
  "language_info": {
   "codemirror_mode": {
    "name": "ipython",
    "version": 3
   },
   "file_extension": ".py",
   "mimetype": "text/x-python",
   "name": "python",
   "nbconvert_exporter": "python",
   "pygments_lexer": "ipython3",
   "version": "3.13.1"
  }
 },
 "nbformat": 4,
 "nbformat_minor": 5
}
