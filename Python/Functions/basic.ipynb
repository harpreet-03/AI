{
 "cells": [
  {
   "cell_type": "code",
   "execution_count": 1,
   "id": "322ee169",
   "metadata": {},
   "outputs": [],
   "source": [
    "def eve_odd(n):\n",
    "\n",
    "    if n% 2 == 0:\n",
    "        print(\"Even\")\n",
    "    else:\n",
    "        print(\"Odd\")"
   ]
  },
  {
   "cell_type": "code",
   "execution_count": 2,
   "id": "9a585fd7",
   "metadata": {},
   "outputs": [
    {
     "name": "stdout",
     "output_type": "stream",
     "text": [
      "Even\n"
     ]
    }
   ],
   "source": [
    "eve_odd(10)"
   ]
  },
  {
   "cell_type": "code",
   "execution_count": 5,
   "id": "8a3869ff",
   "metadata": {},
   "outputs": [
    {
     "name": "stdout",
     "output_type": "stream",
     "text": [
      "Odd\n"
     ]
    }
   ],
   "source": [
    "eve_odd(9769463783909809841)"
   ]
  },
  {
   "cell_type": "code",
   "execution_count": 6,
   "id": "5e61343f",
   "metadata": {},
   "outputs": [],
   "source": [
    "def factorial(n):\n",
    "    if n == 0:\n",
    "        return 1\n",
    "    else:\n",
    "        return n * factorial(n-1)\n"
   ]
  },
  {
   "cell_type": "code",
   "execution_count": 7,
   "id": "ca7465f5",
   "metadata": {},
   "outputs": [
    {
     "name": "stdout",
     "output_type": "stream",
     "text": [
      "120\n",
      "1\n"
     ]
    }
   ],
   "source": [
    "print(factorial(5))  # Output: 120\n",
    "print(factorial(0))  # Output: 1"
   ]
  },
  {
   "cell_type": "markdown",
   "id": "3c437af8",
   "metadata": {},
   "source": [
    "# Lambda function \n",
    "- Lambda function are anonymous functions.\n",
    "- can take any number of args but can only have one expression"
   ]
  },
  {
   "cell_type": "markdown",
   "id": "6eac5ab1",
   "metadata": {},
   "source": []
  },
  {
   "cell_type": "code",
   "execution_count": 10,
   "id": "9eb1268a",
   "metadata": {},
   "outputs": [
    {
     "name": "stdout",
     "output_type": "stream",
     "text": [
      "15\n"
     ]
    }
   ],
   "source": [
    "x = lambda x: x + 10\n",
    "\n",
    "print(x(5))"
   ]
  },
  {
   "cell_type": "code",
   "execution_count": 11,
   "id": "b7b45093",
   "metadata": {},
   "outputs": [
    {
     "name": "stdout",
     "output_type": "stream",
     "text": [
      "odd\n"
     ]
    }
   ],
   "source": [
    "x = lambda x: \"even\" if x % 2 == 0 else \"odd\"\n",
    "print(x(101))"
   ]
  },
  {
   "cell_type": "code",
   "execution_count": null,
   "id": "7c904fec",
   "metadata": {},
   "outputs": [],
   "source": []
  }
 ],
 "metadata": {
  "kernelspec": {
   "display_name": "Python 3",
   "language": "python",
   "name": "python3"
  },
  "language_info": {
   "codemirror_mode": {
    "name": "ipython",
    "version": 3
   },
   "file_extension": ".py",
   "mimetype": "text/x-python",
   "name": "python",
   "nbconvert_exporter": "python",
   "pygments_lexer": "ipython3",
   "version": "3.13.1"
  }
 },
 "nbformat": 4,
 "nbformat_minor": 5
}
